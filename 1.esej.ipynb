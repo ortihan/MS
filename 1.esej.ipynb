{
 "cells": [
  {
   "cell_type": "markdown",
   "metadata": {},
   "source": [
    "# Möbiusova traka"
   ]
  },
  {
   "cell_type": "markdown",
   "metadata": {},
   "source": [
    "***"
   ]
  },
  {
   "cell_type": "code",
   "execution_count": 113,
   "metadata": {},
   "outputs": [],
   "source": [
    "import numpy as np\n",
    "import pandas as pd\n",
    "import matplotlib.pyplot as plt\n",
    "from mpl_toolkits import mplot3d\n",
    "from matplotlib.tri import Triangulation\n",
    "import matplotlib.patches as pat\n",
    "from IPython.display import display, HTML, Image"
   ]
  },
  {
   "cell_type": "markdown",
   "metadata": {},
   "source": [
    "### Uvod i svojstva"
   ]
  },
  {
   "cell_type": "markdown",
   "metadata": {},
   "source": [
    "Möbiusova traka (petlja ili vrpca), dugogodišnji je predmet proučavanja topologije zbog njenih zanimljivih svojstava. Za početak, ako povučemo crtu od jedne točke po sredini trake, završit ćemo kod početne točke, ali s druge strane vrpce. Nastavimo li povlačiti crtu, nakon još jednog prolaza vratit ćemo se u početnu točku, te će crta biti dvostruko dulja od samo vrpce. Ova kontinuirana linija pokazuje da Möbiusova traka ima samo jednu stranu i jedan rub. <br>\n",
    "Također, ona je neorijentabilna ploha. Neorijentabilnost je njezino unutarnje svojstvo. Razmišljamo li o traci isključivo\n",
    "kao o plohi, zanemarivši njezinu debljinu, pred nama je dvodimenzionalan prostor."
   ]
  },
  {
   "cell_type": "markdown",
   "metadata": {},
   "source": [
    "Kako napraviti Möbiusovu traku? <br>\n",
    "Möbiusova traka je površina koja nastaje od pravokutne trake tako što se jedna stranica zarotira za 180 stupnjeva i zalijepi sa suprotnom stranicom."
   ]
  },
  {
   "cell_type": "code",
   "execution_count": 70,
   "metadata": {},
   "outputs": [
    {
     "data": {
      "image/png": "[encoded data removed]",
      "text/plain": [
       "<Figure size 432x288 with 2 Axes>"
      ]
     },
     "metadata": {
      "needs_background": "light"
     },
     "output_type": "display_data"
    }
   ],
   "source": [
    "fig, (ax, ax2) = plt.subplots(2,1)\n",
    "ax.axis(\"off\")\n",
    "ax.axis('equal')\n",
    "ax2.axis(\"off\")\n",
    "ax2.axis('equal')\n",
    "\n",
    "ax.set_xlim(-0.1, 6)\n",
    "ax.set_ylim(-0.1, 2)\n",
    "ax.axis('equal')\n",
    "\n",
    "ax2.set_xlim(-0.1, 6)\n",
    "ax2.set_ylim(-0.1, 2)\n",
    "ax2.axis('equal')\n",
    "\n",
    "rect = pat.Rectangle((0,0), width=6, height=2, facecolor=\"#B5FBDD\", edgecolor=\"black\")\n",
    "ax.add_patch(rect)\n",
    "\n",
    "ax.annotate(\"\", xy=(0, 0), xytext=(0, 2), arrowprops=dict(facecolor='black'))\n",
    "ax.annotate(\"\", xy=(6, 2), xytext=(6, 0), arrowprops=dict(facecolor='black'))\n",
    "\n",
    "ax.text(0.18, 0.5, 'A', horizontalalignment='center', verticalalignment='center', \n",
    "        fontsize=30, color='black', transform=ax.transAxes)\n",
    "ax.text(0.83, 0.5, 'A', horizontalalignment='center', verticalalignment='center', \n",
    "        fontsize=30, color='black', transform=ax.transAxes)\n",
    "\n",
    "tocke1 = np.array([ [0,0], [0,2] , [3,1] ])\n",
    "trokut1 = pat.Polygon(tocke1, True, facecolor=\"#B5FBDD\", edgecolor=\"black\")\n",
    "tocke2 = np.array([ [6,0], [6,2] , [3,1] ])\n",
    "trokut2 = pat.Polygon(tocke2, True, facecolor=\"#B5FBDD\", edgecolor=\"black\")\n",
    "\n",
    "ax2.add_patch(trokut1)\n",
    "ax2.add_patch(trokut2)\n",
    "\n",
    "ax2.annotate(\"\", xy=(0, 2), xytext=(0, 0), arrowprops=dict(facecolor='black'))\n",
    "ax2.annotate(\"\", xy=(6, 2), xytext=(6, 0), arrowprops=dict(facecolor='black'))\n",
    "\n",
    "ax2.text(0.18, -0.7, 'A', horizontalalignment='center', verticalalignment='center', \n",
    "        fontsize=30, color='black', transform=ax.transAxes)\n",
    "ax2.text(0.83, -0.7, 'A', horizontalalignment='center', verticalalignment='center', \n",
    "        fontsize=30, color='black', transform=ax.transAxes)\n",
    "\n",
    "plt.show()"
   ]
  },
  {
   "cell_type": "markdown",
   "metadata": {},
   "source": [
    "Još jedno zanimljivo svojstvo je da se rezanjem Möbiusove trake po sredini dobiva jedna duža traka sa dva puna zavoja, a ne dvije odvojene trake, kao što bi se očekivalo. Dobivena traka nije Möbiusova.\n",
    "\n",
    "Sa druge strane, ako se Möbiusova traka reže ne po sredini, već na udaljenosti od jedne trećine svoje širine do ruba, rezultat će biti dvije trake. Jedna traka je kraća i Möbiusova, dok duža traka sadrži dva zavoja (nije Möbiusova), no ona je ona rezultat rezanja početne Möbiusove trake po sredini.\n"
   ]
  },
  {
   "cell_type": "markdown",
   "metadata": {},
   "source": [
    "<img src=\"mobius_half.gif\" width=\"400\" align=\"center\">"
   ]
  },
  {
   "cell_type": "markdown",
   "metadata": {},
   "source": [
    "<img src=\"mobius_three.gif\" width=\"400\" align=\"center\">"
   ]
  },
  {
   "cell_type": "markdown",
   "metadata": {},
   "source": [
    "Općenito, dodavanjem još zavoja i spajanjem krajeva dobivaju se figure koje se nazivaju paradromski prsteni. Tablica prikazuje rezultate za neke brojeve zavoja, rezova i dijelova na koje se vrpca reže."
   ]
  },
  {
   "cell_type": "code",
   "execution_count": 71,
   "metadata": {},
   "outputs": [
    {
     "data": {
      "text/html": [
       "<style  type=\"text/css\" >\n",
       "    #T_bf51f8d2_79b3_11ea_b9f1_84ef1834e6bb td {\n",
       "          text-align: center;\n",
       "          background-color: #FFE0BC;\n",
       "    }    #T_bf51f8d2_79b3_11ea_b9f1_84ef1834e6bb th {\n",
       "          text-align: center;\n",
       "          background-color: #FEAC92;\n",
       "    }</style><table id=\"T_bf51f8d2_79b3_11ea_b9f1_84ef1834e6bb\" ><thead>    <tr>        <th class=\"col_heading level0 col0\" >Zavoji</th>        <th class=\"col_heading level0 col1\" >Rezovi</th>        <th class=\"col_heading level0 col2\" >Dijelovi</th>        <th class=\"col_heading level0 col3\" >Rezultat</th>    </tr></thead><tbody>\n",
       "                <tr>\n",
       "                                <td id=\"T_bf51f8d2_79b3_11ea_b9f1_84ef1834e6bbrow0_col0\" class=\"data row0 col0\" >1</td>\n",
       "                        <td id=\"T_bf51f8d2_79b3_11ea_b9f1_84ef1834e6bbrow0_col1\" class=\"data row0 col1\" >1</td>\n",
       "                        <td id=\"T_bf51f8d2_79b3_11ea_b9f1_84ef1834e6bbrow0_col2\" class=\"data row0 col2\" >2</td>\n",
       "                        <td id=\"T_bf51f8d2_79b3_11ea_b9f1_84ef1834e6bbrow0_col3\" class=\"data row0 col3\" >1 vrpca duljine 2 i 1 Mobiusova vrpca duljine 1</td>\n",
       "            </tr>\n",
       "            <tr>\n",
       "                                <td id=\"T_bf51f8d2_79b3_11ea_b9f1_84ef1834e6bbrow1_col0\" class=\"data row1 col0\" >1</td>\n",
       "                        <td id=\"T_bf51f8d2_79b3_11ea_b9f1_84ef1834e6bbrow1_col1\" class=\"data row1 col1\" >2</td>\n",
       "                        <td id=\"T_bf51f8d2_79b3_11ea_b9f1_84ef1834e6bbrow1_col2\" class=\"data row1 col2\" >4</td>\n",
       "                        <td id=\"T_bf51f8d2_79b3_11ea_b9f1_84ef1834e6bbrow1_col3\" class=\"data row1 col3\" >2 vrpce duljine 2</td>\n",
       "            </tr>\n",
       "            <tr>\n",
       "                                <td id=\"T_bf51f8d2_79b3_11ea_b9f1_84ef1834e6bbrow2_col0\" class=\"data row2 col0\" >1</td>\n",
       "                        <td id=\"T_bf51f8d2_79b3_11ea_b9f1_84ef1834e6bbrow2_col1\" class=\"data row2 col1\" >2</td>\n",
       "                        <td id=\"T_bf51f8d2_79b3_11ea_b9f1_84ef1834e6bbrow2_col2\" class=\"data row2 col2\" >5</td>\n",
       "                        <td id=\"T_bf51f8d2_79b3_11ea_b9f1_84ef1834e6bbrow2_col3\" class=\"data row2 col3\" >2 vrpce duljine 2 i 1 Möbiusova vrpca duljine 1</td>\n",
       "            </tr>\n",
       "            <tr>\n",
       "                                <td id=\"T_bf51f8d2_79b3_11ea_b9f1_84ef1834e6bbrow3_col0\" class=\"data row3 col0\" >1</td>\n",
       "                        <td id=\"T_bf51f8d2_79b3_11ea_b9f1_84ef1834e6bbrow3_col1\" class=\"data row3 col1\" >3</td>\n",
       "                        <td id=\"T_bf51f8d2_79b3_11ea_b9f1_84ef1834e6bbrow3_col2\" class=\"data row3 col2\" >6</td>\n",
       "                        <td id=\"T_bf51f8d2_79b3_11ea_b9f1_84ef1834e6bbrow3_col3\" class=\"data row3 col3\" >3 vrpce duljine 2</td>\n",
       "            </tr>\n",
       "            <tr>\n",
       "                                <td id=\"T_bf51f8d2_79b3_11ea_b9f1_84ef1834e6bbrow4_col0\" class=\"data row4 col0\" >1</td>\n",
       "                        <td id=\"T_bf51f8d2_79b3_11ea_b9f1_84ef1834e6bbrow4_col1\" class=\"data row4 col1\" >3</td>\n",
       "                        <td id=\"T_bf51f8d2_79b3_11ea_b9f1_84ef1834e6bbrow4_col2\" class=\"data row4 col2\" >7</td>\n",
       "                        <td id=\"T_bf51f8d2_79b3_11ea_b9f1_84ef1834e6bbrow4_col3\" class=\"data row4 col3\" >3 vrpce duljine 2 i 1 Möbiusova vrpca duljine 1</td>\n",
       "            </tr>\n",
       "            <tr>\n",
       "                                <td id=\"T_bf51f8d2_79b3_11ea_b9f1_84ef1834e6bbrow5_col0\" class=\"data row5 col0\" >2</td>\n",
       "                        <td id=\"T_bf51f8d2_79b3_11ea_b9f1_84ef1834e6bbrow5_col1\" class=\"data row5 col1\" >1</td>\n",
       "                        <td id=\"T_bf51f8d2_79b3_11ea_b9f1_84ef1834e6bbrow5_col2\" class=\"data row5 col2\" >2</td>\n",
       "                        <td id=\"T_bf51f8d2_79b3_11ea_b9f1_84ef1834e6bbrow5_col3\" class=\"data row5 col3\" >2 vrpce duljine 1</td>\n",
       "            </tr>\n",
       "            <tr>\n",
       "                                <td id=\"T_bf51f8d2_79b3_11ea_b9f1_84ef1834e6bbrow6_col0\" class=\"data row6 col0\" >2</td>\n",
       "                        <td id=\"T_bf51f8d2_79b3_11ea_b9f1_84ef1834e6bbrow6_col1\" class=\"data row6 col1\" >2</td>\n",
       "                        <td id=\"T_bf51f8d2_79b3_11ea_b9f1_84ef1834e6bbrow6_col2\" class=\"data row6 col2\" >3</td>\n",
       "                        <td id=\"T_bf51f8d2_79b3_11ea_b9f1_84ef1834e6bbrow6_col3\" class=\"data row6 col3\" >3 vrpce duljine 1</td>\n",
       "            </tr>\n",
       "            <tr>\n",
       "                                <td id=\"T_bf51f8d2_79b3_11ea_b9f1_84ef1834e6bbrow7_col0\" class=\"data row7 col0\" >2</td>\n",
       "                        <td id=\"T_bf51f8d2_79b3_11ea_b9f1_84ef1834e6bbrow7_col1\" class=\"data row7 col1\" >3</td>\n",
       "                        <td id=\"T_bf51f8d2_79b3_11ea_b9f1_84ef1834e6bbrow7_col2\" class=\"data row7 col2\" >4</td>\n",
       "                        <td id=\"T_bf51f8d2_79b3_11ea_b9f1_84ef1834e6bbrow7_col3\" class=\"data row7 col3\" >4 vrpce duljine 1</td>\n",
       "            </tr>\n",
       "    </tbody></table>"
      ],
      "text/plain": [
       "<pandas.io.formats.style.Styler at 0x187673ba648>"
      ]
     },
     "execution_count": 71,
     "metadata": {},
     "output_type": "execute_result"
    }
   ],
   "source": [
    "tablica = pd.read_csv(\"prstenovi.csv\")\n",
    "tablica.style.set_table_styles([dict(selector='td', props=[('text-align', 'center'), ('background-color', '#FFE0BC')]),\n",
    "                         dict(selector=('th'), props=[('text-align', 'center'), ('background-color', '#FEAC92')])]).hide_index()"
   ]
  },
  {
   "cell_type": "markdown",
   "metadata": {},
   "source": [
    "### Matematič"
   ]
  },
  {
   "cell_type": "markdown",
   "metadata": {},
   "source": [
    "Parametarske jednadžbe Möbiusove trake debljine $z = 0$, širine $2p$ i savijene u krug radijusa $R$, glase ovako:\n",
    "\n",
    "$$x = \\left[ R + s\\cos\\left(\\frac{t}{2}\\right)\\right] \\cos t $$\n",
    "\n",
    "$$y = \\left[ R + s\\cos\\left(\\frac{t}{2}\\right)\\right] \\sin t $$\n",
    "\n",
    "$$z = s\\sin\\left(\\frac{t}{2}\\right), $$\n",
    "\n",
    "gdje je $s \\in \\left[-p, p\\right]$ i $t \\in \\left[0, 2\\pi \\right>$\n",
    "\n",
    "Za izračunavanje duljine ruba (opsega) Möbiusove trake, potrebno je integrirati sljedeću funkciju:\n",
    "\n",
    "$$\n",
    "\\begin{align}\n",
    "ds &= \\sqrt{x^{'2} + y^{'2}}\\\\\n",
    "&= \\left[\\frac{p^{4}}{16}\\cos^4\\left(\\frac{t}{2}\\right)+ \\left( \\left[R + p\\cos\\left(\\frac{t}{2}\\right)\\right]\\cos t - \\frac{p}{2} \\sin\\left(\\frac{t}{2}\\right) \\sin t \\right)^4 + \\left( R\\sin t + \\frac{t}{4} \\left[ \\sin t \\left(\\frac{t}{2}\\right) + 3\\sin\\left(\\frac{3t}{2}\\right) \\right] \\right)^{4}\\right]^{\\frac{1}{2}}\n",
    "\\end{align}\n",
    "$$\n",
    "\n",
    "od $0$ do $4\\pi$, što se nažalost ne može napraviti u zatvorenoj formuli. Iako se ploha zatvara za $t = 2\\pi$, rub je napravio tek pola puta, potrebno je prjeći još dodatnih $2\\pi$ da se rub zatvori."
   ]
  },
  {
   "cell_type": "markdown",
   "metadata": {},
   "source": [
    "Sada možemo konstruirati 3D prikaz trake."
   ]
  },
  {
   "cell_type": "code",
   "execution_count": 100,
   "metadata": {},
   "outputs": [
    {
     "data": {
      "image/png": "[encoded data removed]",
      "text/plain": [
       "<Figure size 432x288 with 1 Axes>"
      ]
     },
     "metadata": {
      "needs_background": "light"
     },
     "output_type": "display_data"
    }
   ],
   "source": [
    "theta = np.linspace(0, 2 * np.pi, 30)\n",
    "w = np.linspace(-0.4, 0.4, 30)\n",
    "w, theta = np.meshgrid(w, theta)\n",
    "phi = 0.5 * theta\n",
    "\n",
    "r = 1 + w * np.cos(phi)\n",
    "\n",
    "x = np.ravel(r * np.cos(theta))\n",
    "y = np.ravel(r * np.sin(theta))\n",
    "z = np.ravel(w * np.sin(phi))\n",
    "\n",
    "tri = Triangulation(np.ravel(w), np.ravel(theta))\n",
    "\n",
    "ax = plt.axes(projection='3d')\n",
    "ax.plot_trisurf(x, y, z, triangles=tri.triangles, cmap='spring', linewidths=4)\n",
    "\n",
    "plt.axis(\"off\")\n",
    "ax.set_xlim(-1, 1)\n",
    "ax.set_ylim(-1, 1)\n",
    "ax.set_zlim(-1, 1)\n",
    "\n",
    "plt.show()"
   ]
  },
  {
   "cell_type": "markdown",
   "metadata": {},
   "source": [
    "### Upotreba u svakodnevnom životu"
   ]
  },
  {
   "cell_type": "markdown",
   "metadata": {},
   "source": [
    "Mobiusova traka ima i svoju praktičnu primjenu. Mnogi izumi temelje se na svojstvu jednostranosti Möbiusove trake. 1923. godine Lee De Forest izumio je patent za Möbiusovu filmsku vrpcu koja snima zvuk na obje \"strane\". Ista ideja primjenjivala se i kod dobrih starih kazeta tako da ste muziku slušali dvostruko dulje. <br>\n",
    "Mobiusova ploha središnja je tema i u mnogim SF pričama, npr. \"Zid tmine\" Arthura C.Clarka, a opčinila je i mnoge umjetnike. Jedna velika Möbiusova traka postavljena je na rotirajuće postolje ispred ulaza u Muzeja povijesti i tehnologije u Washingtonu."
   ]
  },
  {
   "cell_type": "markdown",
   "metadata": {},
   "source": [
    "Möbiusova petlja – je usvojena kao međunarodni znak za reciklažu koja znači da\n",
    "se materijal može preraditi nakon uporabe"
   ]
  },
  {
   "cell_type": "code",
   "execution_count": 132,
   "metadata": {},
   "outputs": [
    {
     "data": {
      "text/html": [
       "<table style='width:70%'><tr><th style='text-align:center'>Google drive logo</th><th style='text-align:center'>Međunarodni znak za recikliranje</th></tr><tr><td><img src='google.jpeg' /></td><td><img src='recycle.png' /></td></tr></table>"
      ],
      "text/plain": [
       "<IPython.core.display.HTML object>"
      ]
     },
     "metadata": {},
     "output_type": "display_data"
    }
   ],
   "source": [
    "def Images(images, header, width=\"100%\"):\n",
    "    if type(width)==type(1): width = \"{}px\".format(width)\n",
    "    html = [\"<table style='width:{}'><tr>\".format(width)]\n",
    "    html += [\"<th style='text-align:center'>{}</th>\".format(h) for h in header] + [\"</tr><tr>\"]\n",
    "\n",
    "    for image in images:\n",
    "        html.append(\"<td><img src='{}' /></td>\".format(image))\n",
    "    \n",
    "    html.append(\"</tr></table>\")\n",
    "    display(HTML(''.join(html)))\n",
    "\n",
    "Images([\"google.jpeg\",\"recycle.png\"], header=[\"Google drive logo\", \"Međunarodni znak za recikliranje\"], width=\"70%\")"
   ]
  },
  {
   "cell_type": "markdown",
   "metadata": {},
   "source": [
    "### Izvori"
   ]
  },
  {
   "cell_type": "code",
   "execution_count": 82,
   "metadata": {},
   "outputs": [
    {
     "data": {
      "text/html": [
       "<a href=\"https://en.wikipedia.org/wiki/M%C3%B6bius_strip\">Wikipedia - Möbius strip</a>"
      ],
      "text/plain": [
       "<IPython.core.display.HTML object>"
      ]
     },
     "metadata": {},
     "output_type": "display_data"
    },
    {
     "data": {
      "text/html": [
       "<a href=\"https://mathworld.wolfram.com/MoebiusStrip.html\">Wolfram Mathworld - Möbius strip</a>"
      ],
      "text/plain": [
       "<IPython.core.display.HTML object>"
      ]
     },
     "metadata": {},
     "output_type": "display_data"
    },
    {
     "data": {
      "text/html": [
       "<a href=\"https://mis.element.hr/fajli/361/22-08.pdf\">Element - Möbiusova traka</a>"
      ],
      "text/plain": [
       "<IPython.core.display.HTML object>"
      ]
     },
     "metadata": {},
     "output_type": "display_data"
    }
   ],
   "source": [
    "display(HTML(\"\"\"<a href=\"https://en.wikipedia.org/wiki/M%C3%B6bius_strip\">Wikipedia - Möbius strip</a>\"\"\"))\n",
    "display(HTML(\"\"\"<a href=\"https://mathworld.wolfram.com/MoebiusStrip.html\">Wolfram Mathworld - Möbius strip</a>\"\"\"))\n",
    "display(HTML(\"\"\"<a href=\"https://mis.element.hr/fajli/361/22-08.pdf\">Element - Möbiusova traka</a>\"\"\"))"
   ]
  }
 ],
 "metadata": {
  "kernelspec": {
   "display_name": "Python 3",
   "language": "python",
   "name": "python3"
  },
  "language_info": {
   "codemirror_mode": {
    "name": "ipython",
    "version": 3
   },
   "file_extension": ".py",
   "mimetype": "text/x-python",
   "name": "python",
   "nbconvert_exporter": "python",
   "pygments_lexer": "ipython3",
   "version": "3.7.4"
  }
 },
 "nbformat": 4,
 "nbformat_minor": 2
}
